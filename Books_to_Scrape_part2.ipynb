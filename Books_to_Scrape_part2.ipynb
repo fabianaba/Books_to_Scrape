{
 "cells": [
  {
   "cell_type": "markdown",
   "id": "1045e150",
   "metadata": {},
   "source": [
    "### Beautiful Soup - exercise"
   ]
  },
  {
   "cell_type": "markdown",
   "id": "c7cf73b2",
   "metadata": {},
   "source": [
    "1. Collect data from page https://books.toscrape.com\n",
    "* Classics\n",
    "* Science Fiction\n",
    "* Humor\n",
    "* Business\n",
    "\n",
    "Information to be collected:\n",
    "* title\n",
    "* price\n",
    "* rates/reviews\n",
    "* availability in stock\n",
    "\n",
    "Report format:\n",
    "\n",
    "Written plan for each business question covering:\n",
    "* deliverable result (output): draft of final table or graph/chart\n",
    "* process: steps by logic of execution\n",
    "* input: link for source of data\n",
    "\n",
    "Final .csv file with all information"
   ]
  },
  {
   "cell_type": "markdown",
   "id": "0c1e4e68",
   "metadata": {},
   "source": [
    "### Written plan"
   ]
  },
  {
   "cell_type": "markdown",
   "id": "74f08484",
   "metadata": {},
   "source": [
    "The learning objective of this exercise  is to practice Python programming language using Beautiful Soup \n",
    "library to \"scrape\" books information from the website https://books.toscrape.com\n",
    "    \n",
    "Deliverable result: \n",
    "Must be a '.csv' file; table with 6 columns named as title, price, rate, availability in stock, category, and date/time of scrapping.\n",
    "\n",
    "Process:\n",
    "- create a pattern dataframe containing the 6 columns listed above \n",
    "- for each category (Classics, Science Fiction, Humor, and Business), create a Beautiful Soup object to extract the\n",
    "information in their specific webpages and create a dataframe to concatenate with the pattern dataframe. Missing information will be filled with 'NA'.\n",
    "- concatenate all dataframes into a final dataframe\n",
    "- export the final dataframe to a '.csv' file\n",
    "\n",
    "Input:\n",
    "\n",
    "Webpages for each category as follow:\n",
    "\n",
    "Classics: http://books.toscrape.com/catalogue/category/books/classics_6/index.html\n",
    "\n",
    "Science Fiction: http://books.toscrape.com/catalogue/category/books/science-fiction_16/index.html\n",
    "\n",
    "Humor: http://books.toscrape.com/catalogue/category/books/humor_30/index.html\n",
    "\n",
    "Business: http://books.toscrape.com/catalogue/category/books/business_35/index.html\n"
   ]
  },
  {
   "cell_type": "code",
   "execution_count": 1,
   "id": "5fab2344",
   "metadata": {
    "ExecuteTime": {
     "end_time": "2022-03-08T02:10:20.352417Z",
     "start_time": "2022-03-08T02:10:19.868171Z"
    }
   },
   "outputs": [],
   "source": [
    "from bs4 import BeautifulSoup\n",
    "from datetime import datetime\n",
    "import requests\n",
    "import pandas as pd\n",
    "import numpy as np\n",
    "import re"
   ]
  },
  {
   "cell_type": "code",
   "execution_count": 2,
   "id": "df665fd2",
   "metadata": {
    "ExecuteTime": {
     "end_time": "2022-03-08T02:10:20.367989Z",
     "start_time": "2022-03-08T02:10:20.354413Z"
    }
   },
   "outputs": [],
   "source": [
    "headers = {'User-Agent': 'Mozilla/5.0 (Windows NT 10.0; Win64; x64; rv:97.0) Gecko/20100101 Firefox/97.0'}\n",
    "# user-agent from http://developers.whatismybrowser.com/\n",
    "\n",
    "# empty dataframe\n",
    "df_details = pd.DataFrame()\n",
    "\n",
    "# pattern dataframe\n",
    "df_pattern = pd.DataFrame(columns=[['category', 'title', 'price', 'rate', 'in_stock', 'datetime']])"
   ]
  },
  {
   "cell_type": "code",
   "execution_count": 3,
   "id": "3429fe96",
   "metadata": {
    "ExecuteTime": {
     "end_time": "2022-03-08T02:10:20.383627Z",
     "start_time": "2022-03-08T02:10:20.368984Z"
    }
   },
   "outputs": [],
   "source": [
    "categories = ['http://books.toscrape.com/catalogue/category/books/classics_6/index.html',\n",
    "              'http://books.toscrape.com/catalogue/category/books/science-fiction_16/index.html',\n",
    "              'http://books.toscrape.com/catalogue/category/books/humor_30/index.html',\n",
    "              'http://books.toscrape.com/catalogue/category/books/business_35/index.html']"
   ]
  },
  {
   "cell_type": "code",
   "execution_count": 4,
   "id": "5a3e89c6",
   "metadata": {
    "ExecuteTime": {
     "end_time": "2022-03-08T02:10:37.893527Z",
     "start_time": "2022-03-08T02:10:20.384625Z"
    }
   },
   "outputs": [],
   "source": [
    "data = pd.DataFrame()\n",
    "\n",
    "for category in range(len(categories)):\n",
    "\n",
    "    # ================== Category - general page ========================\n",
    "\n",
    "    url = categories[category]\n",
    "\n",
    "    page = requests.get(url, headers=headers)\n",
    "    soup = BeautifulSoup(page.text, 'html.parser')\n",
    "\n",
    "    # Category name\n",
    "    category_name_scrapy = soup.find('div', class_='page-header action')\n",
    "    category_name = category_name_scrapy.find('h1').get_text()\n",
    "\n",
    "    # Books list\n",
    "    books_list = soup.find('ol', class_='row')\n",
    "    books = books_list.find_all('div', class_='image_container')\n",
    "\n",
    "    links_with_text = []\n",
    "    for a in books_list.find_all('a', href=True): \n",
    "        if a.text: \n",
    "            links_with_text.append(a['href'])\n",
    "\n",
    "    for b in range(len(links_with_text)):\n",
    "        links_with_text[b] = 'http://books.toscrape.com/catalogue/' + links_with_text[b][9:]\n",
    "\n",
    "    # ================== Category - books individual pages ========================\n",
    "\n",
    "    df_category = pd.DataFrame()\n",
    "\n",
    "    for c in range(len(links_with_text)):\n",
    "\n",
    "        book_details_list = {\"category\": category, \"title\": {}, \"price\": {}, \"rate\": {},  \"in_stock\": {}, \"datetime\": {}}\n",
    "\n",
    "        # API requests\n",
    "        book_url = links_with_text[c]\n",
    "        page = requests.get(book_url, headers=headers)\n",
    "\n",
    "        # Beautiful Soup object\n",
    "        soup = BeautifulSoup(page.text, 'html.parser')\n",
    "\n",
    "        book_details = soup.find('article', class_='product_page')\n",
    "        book_details_list['title'] = book_details.find('img').get('alt')\n",
    "        book_details_list['price'] = book_details.find('p', class_='price_color').get_text()[-5:]\n",
    "        book_details_list['rate'] = str(book_details.find('p', class_=['star-rating One', 'star-rating Two', 'star-rating Three', \n",
    "                                             'star-rating Four', 'star-rating Five']))\n",
    "        book_details_list['in_stock'] = book_details.find('p', class_='instock availability').get_text()[-18:-7]\n",
    "        book_details_list['datetime'] = datetime.now()\n",
    "\n",
    "        df_book = pd.DataFrame(list(book_details_list.items())).T\n",
    "        df_book.columns = df_book.iloc[0]   # rename column names\n",
    "        df_book = df_book.iloc[1:]   # delete first row\n",
    "\n",
    "        df_category = pd.concat([df_category, df_book], axis=0).reset_index(drop=True)  \n",
    "        \n",
    "        # final dataframe\n",
    "        data = pd.concat([data, df_category], axis=0).reset_index(drop=True)"
   ]
  },
  {
   "cell_type": "markdown",
   "id": "befae162",
   "metadata": {
    "ExecuteTime": {
     "end_time": "2022-03-08T01:09:57.999194Z",
     "start_time": "2022-03-08T01:09:57.986134Z"
    }
   },
   "source": [
    "### Cleaning and Formatting data"
   ]
  },
  {
   "cell_type": "code",
   "execution_count": 5,
   "id": "3bdfa4e9",
   "metadata": {
    "ExecuteTime": {
     "end_time": "2022-03-08T02:10:37.926172Z",
     "start_time": "2022-03-08T02:10:37.894661Z"
    }
   },
   "outputs": [],
   "source": [
    "data['category'] = data['category'].replace([0, 1, 2, 3],['classics', 'science_fiction', 'humor', 'business'])\n",
    "\n",
    "data['rate'] = data['rate'].apply(lambda x: re.search('(One|Two|Three|Four|Five)', x).group(1) \n",
    "                                  if pd.notnull(x) else 0)\n",
    "data['rate'] = data['rate'].replace(['One', 'Two', 'Three', 'Four', 'Five'], [1, 2, 3, 4, 5])\n",
    "\n",
    "data['in_stock'] = data['in_stock'].apply(lambda x: re.search('\\d', x).group(0) if pd.notnull(x) else 0)\n",
    "\n",
    "data = data.drop_duplicates().reset_index(drop=True)"
   ]
  },
  {
   "cell_type": "markdown",
   "id": "b9c324a8",
   "metadata": {},
   "source": [
    "### Creating the deliverable .csv file"
   ]
  },
  {
   "cell_type": "code",
   "execution_count": 6,
   "id": "4e89dbbc",
   "metadata": {
    "ExecuteTime": {
     "end_time": "2022-03-08T02:10:37.942873Z",
     "start_time": "2022-03-08T02:10:37.928547Z"
    }
   },
   "outputs": [],
   "source": [
    "data_raw_csv = data.to_csv('books.csv', index=False)"
   ]
  }
 ],
 "metadata": {
  "kernelspec": {
   "display_name": "Python 3",
   "language": "python",
   "name": "python3"
  },
  "language_info": {
   "codemirror_mode": {
    "name": "ipython",
    "version": 3
   },
   "file_extension": ".py",
   "mimetype": "text/x-python",
   "name": "python",
   "nbconvert_exporter": "python",
   "pygments_lexer": "ipython3",
   "version": "3.8.8"
  }
 },
 "nbformat": 4,
 "nbformat_minor": 5
}

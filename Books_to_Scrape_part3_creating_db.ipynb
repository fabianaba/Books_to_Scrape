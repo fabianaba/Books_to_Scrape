{
 "cells": [
  {
   "cell_type": "markdown",
   "id": "1045e150",
   "metadata": {},
   "source": [
    "### Creating a database and a table with data from last steps"
   ]
  },
  {
   "cell_type": "code",
   "execution_count": 1,
   "id": "5fab2344",
   "metadata": {
    "ExecuteTime": {
     "end_time": "2022-03-13T14:49:03.710898Z",
     "start_time": "2022-03-13T14:49:03.268937Z"
    }
   },
   "outputs": [],
   "source": [
    "import pandas as pd\n",
    "import sqlite3\n",
    "from sqlalchemy import create_engine"
   ]
  },
  {
   "cell_type": "code",
   "execution_count": 2,
   "id": "4dfecc95",
   "metadata": {
    "ExecuteTime": {
     "end_time": "2022-03-13T14:49:03.727629Z",
     "start_time": "2022-03-13T14:49:03.712557Z"
    }
   },
   "outputs": [],
   "source": [
    "data = pd.read_csv('books.csv')"
   ]
  },
  {
   "cell_type": "code",
   "execution_count": 3,
   "id": "48730b5a",
   "metadata": {
    "ExecuteTime": {
     "end_time": "2022-03-13T14:49:03.754307Z",
     "start_time": "2022-03-13T14:49:03.729625Z"
    }
   },
   "outputs": [
    {
     "data": {
      "text/html": [
       "<div>\n",
       "<style scoped>\n",
       "    .dataframe tbody tr th:only-of-type {\n",
       "        vertical-align: middle;\n",
       "    }\n",
       "\n",
       "    .dataframe tbody tr th {\n",
       "        vertical-align: top;\n",
       "    }\n",
       "\n",
       "    .dataframe thead th {\n",
       "        text-align: right;\n",
       "    }\n",
       "</style>\n",
       "<table border=\"1\" class=\"dataframe\">\n",
       "  <thead>\n",
       "    <tr style=\"text-align: right;\">\n",
       "      <th></th>\n",
       "      <th>category</th>\n",
       "      <th>title</th>\n",
       "      <th>price</th>\n",
       "      <th>rate</th>\n",
       "      <th>in_stock</th>\n",
       "      <th>datetime</th>\n",
       "    </tr>\n",
       "  </thead>\n",
       "  <tbody>\n",
       "    <tr>\n",
       "      <th>0</th>\n",
       "      <td>classics</td>\n",
       "      <td>The Secret Garden</td>\n",
       "      <td>15.08</td>\n",
       "      <td>4</td>\n",
       "      <td>5</td>\n",
       "      <td>2022-03-07 22:10:20.994086</td>\n",
       "    </tr>\n",
       "    <tr>\n",
       "      <th>1</th>\n",
       "      <td>classics</td>\n",
       "      <td>The Metamorphosis</td>\n",
       "      <td>28.58</td>\n",
       "      <td>1</td>\n",
       "      <td>5</td>\n",
       "      <td>2022-03-07 22:10:21.172272</td>\n",
       "    </tr>\n",
       "    <tr>\n",
       "      <th>2</th>\n",
       "      <td>classics</td>\n",
       "      <td>The Pilgrim's Progress</td>\n",
       "      <td>50.26</td>\n",
       "      <td>2</td>\n",
       "      <td>4</td>\n",
       "      <td>2022-03-07 22:10:21.494552</td>\n",
       "    </tr>\n",
       "    <tr>\n",
       "      <th>3</th>\n",
       "      <td>classics</td>\n",
       "      <td>The Hound of the Baskervilles (Sherlock Holmes...</td>\n",
       "      <td>14.82</td>\n",
       "      <td>2</td>\n",
       "      <td>4</td>\n",
       "      <td>2022-03-07 22:10:21.676425</td>\n",
       "    </tr>\n",
       "    <tr>\n",
       "      <th>4</th>\n",
       "      <td>classics</td>\n",
       "      <td>Little Women (Little Women #1)</td>\n",
       "      <td>28.07</td>\n",
       "      <td>4</td>\n",
       "      <td>4</td>\n",
       "      <td>2022-03-07 22:10:21.846924</td>\n",
       "    </tr>\n",
       "  </tbody>\n",
       "</table>\n",
       "</div>"
      ],
      "text/plain": [
       "   category                                              title  price  rate  \\\n",
       "0  classics                                  The Secret Garden  15.08     4   \n",
       "1  classics                                  The Metamorphosis  28.58     1   \n",
       "2  classics                             The Pilgrim's Progress  50.26     2   \n",
       "3  classics  The Hound of the Baskervilles (Sherlock Holmes...  14.82     2   \n",
       "4  classics                     Little Women (Little Women #1)  28.07     4   \n",
       "\n",
       "   in_stock                    datetime  \n",
       "0         5  2022-03-07 22:10:20.994086  \n",
       "1         5  2022-03-07 22:10:21.172272  \n",
       "2         4  2022-03-07 22:10:21.494552  \n",
       "3         4  2022-03-07 22:10:21.676425  \n",
       "4         4  2022-03-07 22:10:21.846924  "
      ]
     },
     "execution_count": 3,
     "metadata": {},
     "output_type": "execute_result"
    }
   ],
   "source": [
    "data.head()"
   ]
  },
  {
   "cell_type": "code",
   "execution_count": 4,
   "id": "f71ffc75",
   "metadata": {
    "ExecuteTime": {
     "end_time": "2022-03-13T14:49:03.769201Z",
     "start_time": "2022-03-13T14:49:03.755998Z"
    }
   },
   "outputs": [],
   "source": [
    "# table schema\n",
    "query_books_schema = \"\"\"\n",
    "\n",
    "    CREATE TABLE book_shelf(\n",
    "        category  TEXT, \n",
    "        title     TEXT, \n",
    "        price     REAL, \n",
    "        rate      INTEGER,\n",
    "        in_stock  INTEGER, \n",
    "        datetime  TEXT    \n",
    "    )\n",
    "\"\"\""
   ]
  },
  {
   "cell_type": "code",
   "execution_count": 5,
   "id": "7b13b4d5",
   "metadata": {
    "ExecuteTime": {
     "end_time": "2022-03-13T14:49:03.781904Z",
     "start_time": "2022-03-13T14:49:03.771207Z"
    }
   },
   "outputs": [],
   "source": [
    "# creation of database and table 'book_shelf'\n",
    "conn = sqlite3.connect('books_db.sqlite')  # connect to db or create it if doesn't exist\n",
    "cursor = conn.execute(query_books_schema)  # plan the execution\n",
    "conn.commit()  # execute: create empty table 'book_shelf'"
   ]
  },
  {
   "cell_type": "code",
   "execution_count": 6,
   "id": "7f6d8772",
   "metadata": {
    "ExecuteTime": {
     "end_time": "2022-03-13T14:49:03.797039Z",
     "start_time": "2022-03-13T14:49:03.782903Z"
    }
   },
   "outputs": [],
   "source": [
    "conn = create_engine('sqlite:///books_db.sqlite', echo=False)  # as I already have a db file, now I use create_engine"
   ]
  },
  {
   "cell_type": "code",
   "execution_count": 7,
   "id": "83c11a2c",
   "metadata": {
    "ExecuteTime": {
     "end_time": "2022-03-13T14:49:03.827420Z",
     "start_time": "2022-03-13T14:49:03.798036Z"
    }
   },
   "outputs": [],
   "source": [
    "# insert data to table\n",
    "data.to_sql('book_shelf', con=conn, if_exists='append', index=False)"
   ]
  },
  {
   "cell_type": "code",
   "execution_count": 8,
   "id": "f0816846",
   "metadata": {
    "ExecuteTime": {
     "end_time": "2022-03-13T14:49:03.839749Z",
     "start_time": "2022-03-13T14:49:03.828482Z"
    }
   },
   "outputs": [],
   "source": [
    "# creation of a dataframe from 'book_shelf' table\n",
    "query = \"\"\"\n",
    "    SELECT * FROM book_shelf\n",
    "\"\"\"\n",
    "df = pd.read_sql_query(query, conn)"
   ]
  },
  {
   "cell_type": "code",
   "execution_count": 9,
   "id": "9cbb9ea6",
   "metadata": {
    "ExecuteTime": {
     "end_time": "2022-03-13T14:49:03.852616Z",
     "start_time": "2022-03-13T14:49:03.840746Z"
    }
   },
   "outputs": [
    {
     "data": {
      "text/html": [
       "<div>\n",
       "<style scoped>\n",
       "    .dataframe tbody tr th:only-of-type {\n",
       "        vertical-align: middle;\n",
       "    }\n",
       "\n",
       "    .dataframe tbody tr th {\n",
       "        vertical-align: top;\n",
       "    }\n",
       "\n",
       "    .dataframe thead th {\n",
       "        text-align: right;\n",
       "    }\n",
       "</style>\n",
       "<table border=\"1\" class=\"dataframe\">\n",
       "  <thead>\n",
       "    <tr style=\"text-align: right;\">\n",
       "      <th></th>\n",
       "      <th>category</th>\n",
       "      <th>title</th>\n",
       "      <th>price</th>\n",
       "      <th>rate</th>\n",
       "      <th>in_stock</th>\n",
       "      <th>datetime</th>\n",
       "    </tr>\n",
       "  </thead>\n",
       "  <tbody>\n",
       "    <tr>\n",
       "      <th>0</th>\n",
       "      <td>classics</td>\n",
       "      <td>The Secret Garden</td>\n",
       "      <td>15.08</td>\n",
       "      <td>4</td>\n",
       "      <td>5</td>\n",
       "      <td>2022-03-07 22:10:20.994086</td>\n",
       "    </tr>\n",
       "    <tr>\n",
       "      <th>1</th>\n",
       "      <td>classics</td>\n",
       "      <td>The Metamorphosis</td>\n",
       "      <td>28.58</td>\n",
       "      <td>1</td>\n",
       "      <td>5</td>\n",
       "      <td>2022-03-07 22:10:21.172272</td>\n",
       "    </tr>\n",
       "    <tr>\n",
       "      <th>2</th>\n",
       "      <td>classics</td>\n",
       "      <td>The Pilgrim's Progress</td>\n",
       "      <td>50.26</td>\n",
       "      <td>2</td>\n",
       "      <td>4</td>\n",
       "      <td>2022-03-07 22:10:21.494552</td>\n",
       "    </tr>\n",
       "    <tr>\n",
       "      <th>3</th>\n",
       "      <td>classics</td>\n",
       "      <td>The Hound of the Baskervilles (Sherlock Holmes...</td>\n",
       "      <td>14.82</td>\n",
       "      <td>2</td>\n",
       "      <td>4</td>\n",
       "      <td>2022-03-07 22:10:21.676425</td>\n",
       "    </tr>\n",
       "    <tr>\n",
       "      <th>4</th>\n",
       "      <td>classics</td>\n",
       "      <td>Little Women (Little Women #1)</td>\n",
       "      <td>28.07</td>\n",
       "      <td>4</td>\n",
       "      <td>4</td>\n",
       "      <td>2022-03-07 22:10:21.846924</td>\n",
       "    </tr>\n",
       "  </tbody>\n",
       "</table>\n",
       "</div>"
      ],
      "text/plain": [
       "   category                                              title  price  rate  \\\n",
       "0  classics                                  The Secret Garden  15.08     4   \n",
       "1  classics                                  The Metamorphosis  28.58     1   \n",
       "2  classics                             The Pilgrim's Progress  50.26     2   \n",
       "3  classics  The Hound of the Baskervilles (Sherlock Holmes...  14.82     2   \n",
       "4  classics                     Little Women (Little Women #1)  28.07     4   \n",
       "\n",
       "   in_stock                    datetime  \n",
       "0         5  2022-03-07 22:10:20.994086  \n",
       "1         5  2022-03-07 22:10:21.172272  \n",
       "2         4  2022-03-07 22:10:21.494552  \n",
       "3         4  2022-03-07 22:10:21.676425  \n",
       "4         4  2022-03-07 22:10:21.846924  "
      ]
     },
     "execution_count": 9,
     "metadata": {},
     "output_type": "execute_result"
    }
   ],
   "source": [
    "df.head()"
   ]
  }
 ],
 "metadata": {
  "kernelspec": {
   "display_name": "Python 3",
   "language": "python",
   "name": "python3"
  },
  "language_info": {
   "codemirror_mode": {
    "name": "ipython",
    "version": 3
   },
   "file_extension": ".py",
   "mimetype": "text/x-python",
   "name": "python",
   "nbconvert_exporter": "python",
   "pygments_lexer": "ipython3",
   "version": "3.8.8"
  }
 },
 "nbformat": 4,
 "nbformat_minor": 5
}
